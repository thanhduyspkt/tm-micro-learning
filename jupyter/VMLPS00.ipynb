{
 "cells": [
  {
   "cell_type": "markdown",
   "id": "e9ebebb0-f22d-4378-a8ff-6b91d0ec6b22",
   "metadata": {},
   "source": [
    "## MicroLearning -> [VMLPS00](https://confluence.gft.com/display/APACD/MicroLearnings)"
   ]
  },
  {
   "cell_type": "markdown",
   "metadata": {},
   "source": [
    "> Purpose of this MicroLearning is to learn how Vault treats those PIB requests which do not have a valid client_id. client_id is Posting API Client ID. It is critical and mandatory information in the PIB using which Vault will route the PIB response to the right kafka response topic which corresponds to that Posting API Client. If a valid client_id is not provided, Vault's postings processor does not process that request at all, and sends it to postings DLQ. The header of the message written to the DLQ contains the information on why that message has been written to the DLQ and could not be processed by Vault."
   ]
  },
  {
   "cell_type": "markdown",
   "id": "e810210f-ef05-4326-bcc5-2c453c1dfdf4",
   "metadata": {
    "jp-MarkdownHeadingCollapsed": true
   },
   "source": [
    "#### Set up a Kafka Producer"
   ]
  },
  {
   "cell_type": "code",
   "execution_count": null,
   "id": "dc010bb2-a4d2-4322-ac69-38ad1245f04d",
   "metadata": {},
   "outputs": [],
   "source": [
    "import json\n",
    "import os\n",
    "from dataclasses import dataclass\n",
    "from typing import Dict, Callable, Any\n",
    "from kafka import KafkaConsumer, KafkaProducer\n",
    "import requests\n",
    "import logging\n",
    "\n",
    "CONTENT_TYPE = 'application/json'\n",
    "\n",
    "logging.basicConfig(level=logging.INFO)\n",
    "KAFKA_ENDPOINT = 'bootstrap.kafka.partner-eph-6.tmachine.io:443'\n",
    "CORE_API_URL = \"https://core-api.partner-eph-6.tmachine.io\"\n",
    "WORKFLOW_API_URL = \"https://workflows-api.partner-eph-6.tmachine.io\"\n",
    "X_AUTH_TOKEN = \"A0006786022557907328897!rI1MCYa35TdEFt3kka7xh5edAoXEHfXGzntcA4vSxAseR+Cu+rseyz+j9Ql4WffZD8IsAZ9DUKDttPlqvSNsrfZd6To=\"\n",
    "\n",
    "PIB_URL_BATCH_GET = \"/v1/posting-instruction-batches:batchGet\"\n",
    "PIB_TOPIC = 'vault.api.v1.postings.posting_instruction_batch.created'\n",
    "PIB_REQUEST_TOPIC = 'vault.core.postings.requests.v1'\n",
    "GET_PAC = \"/v1/postings-api-clients\"\n",
    "\n",
    "class TMApiClient:\n",
    "    @dataclass\n",
    "    class TMConnectionDetails:\n",
    "        core_api_url: str\n",
    "        workflow_api_url: str\n",
    "        token: str\n",
    "        kafka_url: str\n",
    "        kafka_security_protocol: str = \"SSL\"\n",
    "        content_type: str = CONTENT_TYPE\n",
    "\n",
    "    def __init__(self, conn: TMConnectionDetails):\n",
    "        self.connection_details = conn\n",
    "        self.default_headers = {\n",
    "            'Content-Type': conn.content_type,\n",
    "            'X-Auth-Token': conn.token\n",
    "        }\n",
    "\n",
    "    def call_core_api(self, endpoint: str, query_params: Dict[str, str], method: str = 'get', body: Any = None,\n",
    "                      headers: Dict[str, str] = {}):\n",
    "        return self.__call_api(url=self.connection_details.core_api_url + endpoint,\n",
    "                               query_params=query_params,\n",
    "                               method=method,\n",
    "                               body=body,\n",
    "                               extra_headers=headers)\n",
    "\n",
    "    def call_workflow_api(self, endpoint: str, query_params: Dict[str, str], method: str = 'get', body: Any = None,\n",
    "                          headers: Dict[str, str] = {}):\n",
    "        return self.__call_api(url=self.connection_details.workflow_api_url + endpoint,\n",
    "                               query_params=query_params,\n",
    "                               method=method,\n",
    "                               body=body,\n",
    "                               extra_headers=headers)\n",
    "\n",
    "    def __call_api(self, url: str, query_params: Dict[str, str], method: str, body: Any, extra_headers: Dict[str, str]):\n",
    "        response = requests.request(method=method,\n",
    "                                    url=url,\n",
    "                                    params=query_params,\n",
    "                                    data=body,\n",
    "                                    headers={**self.default_headers, **extra_headers}\n",
    "                                    )\n",
    "        if not response.ok:\n",
    "            raise Exception('Failed getting response for request %s, %s %s' % (\n",
    "                str(response.request), response.status_code, response.text))\n",
    "        return response.json()\n",
    "\n",
    "    def publish_kafka_message(self, topic: str, key: str, value: Any) -> None:\n",
    "        \"\"\"\n",
    "        Publish message to particular kafka topic.\n",
    "        :param topic: Topic to where send the message\n",
    "        :param key: Key of the message converted to bytes\n",
    "        :param value: Value of the message, that can be converted to json and the to bytes\n",
    "        :return: None\n",
    "        \"\"\"\n",
    "        producer = KafkaProducer(bootstrap_servers=[self.connection_details.kafka_url],\n",
    "                                 security_protocol=self.connection_details.kafka_security_protocol,\n",
    "                                api_version=(0, 8, 2))\n",
    "\n",
    "        producer.send(topic, key=key.encode('utf-8'), value=json.dumps(value).encode('utf-8'))\n",
    "\n",
    "    def subscribe_to_kafka_topic(self,\n",
    "                                 topic: str,\n",
    "                                 group_id: str = str(os.getpid()),\n",
    "                                 offset: str = 'earliest',\n",
    "                                 callback: Callable[[str, str], None] = lambda *args: None,\n",
    "                                 ) -> None:\n",
    "        \"\"\"\n",
    "        Subscribe particular kafka topic to receive messages in json format encoded in utf-8\n",
    "        :param topic: topic name to subscribe the consumer\n",
    "        :param group_id: configure group id of consumers. Default value is process Id.\n",
    "        :param offset: configure the offset for consumer between earliest,latest or exact offset value.\n",
    "        Default value is earliest.\n",
    "        :param callback: function that consumes message as arguments of key and value.\n",
    "        :return: None\n",
    "        \"\"\"\n",
    "        consumer = KafkaConsumer(topic,\n",
    "                                 group_id=group_id, auto_offset_reset=offset,\n",
    "                                 bootstrap_servers=[self.connection_details.kafka_url],\n",
    "                                 security_protocol=self.connection_details.kafka_security_protocol,\n",
    "                                 api_version=(0, 8, 2))\n",
    "        logging.debug(\"Consumer for topic {} has started\".format(topic))\n",
    "        for record in consumer:\n",
    "            logging.debug(\"%s:%d:%d: key=%s value=%s\" % (record.topic, record.partition,\n",
    "                                                         record.offset, record.key,\n",
    "                                                         record.value))\n",
    "            callback(record.key.decode('utf8'), json.loads(record.value.decode('utf8').replace(\"'\", '\"')))\n",
    "\n",
    "details = TMApiClient.TMConnectionDetails(core_api_url=CORE_API_URL,\n",
    "                                             workflow_api_url=WORKFLOW_API_URL,\n",
    "                                             token=X_AUTH_TOKEN,\n",
    "                                             kafka_url=KAFKA_ENDPOINT)"
   ]
  },
  {
   "cell_type": "markdown",
   "id": "7aad4b33-0ca5-44a7-b4eb-8c668ffb4d3b",
   "metadata": {},
   "source": [
    "#### Publish a posting without the client_id"
   ]
  },
  {
   "cell_type": "markdown",
   "id": "6c7ab87c-3c2f-4b6d-93c2-5c254b89e957",
   "metadata": {},
   "source": [
    "> If the client_id field in the PostingInstructionBatch is invalid. This could be because it is either empty, or the specified client_id has not been registered with the Postings API. Then, the PIB is not  processed byt Vault at all and a message is published to the DLQ because there was a problem determining which response topic to stream the response to. Read here about: [Postings DLQ](https://docs.thoughtmachine.net/vault-core/4-6/EN/api/postings_api/#dlqs)"
   ]
  },
  {
   "cell_type": "code",
   "execution_count": null,
   "id": "23bcc513-b24a-4fd7-9df4-ca1eec5ed2db",
   "metadata": {
    "scrolled": true
   },
   "outputs": [],
   "source": [
    "client = TMApiClient(details)\n",
    "request = json.loads(\"\"\"{\n",
    "\"request_id\":\"test\",\n",
    "\"posting_instruction_batch\":{\n",
    "  \"client_batch_id\":\"test\",\n",
    "  \"posting_instructions\":[\n",
    "     {\n",
    "        \"client_transaction_id\":\"f9ea38b6-59a8-497d-9a43-dd907adb28d6\",\n",
    "        \"instruction_details\":null,\n",
    "        \"override\":null,\n",
    "        \"transaction_code\":null,\n",
    "        \"outbound_authorisation\":null,\n",
    "        \"inbound_authorisation\":null,\n",
    "        \"authorisation_adjustment\":null,\n",
    "        \"settlement\":null,\n",
    "        \"release\":null,\n",
    "        \"inbound_hard_settlement\":{\n",
    "            \"amount\":\"21\",\n",
    "            \"denomination\":\"USD\",\n",
    "            \"target_account\":{\n",
    "                \"account_id\":\"40d78ae3-24f8-5393-251d-6ac5811c0433\"\n",
    "            },\n",
    "            \"internal_account_id\":\"migration_sample\",\n",
    "            \"advice\":true\n",
    "\n",
    "        }\n",
    "     }\n",
    "  ],\n",
    "  \"batch_details\":{\n",
    "     \"force_override\":\"true\"\n",
    "  }\n",
    "}}\n",
    "\"\"\")\n",
    "\n",
    "client.publish_kafka_message(PIB_REQUEST_TOPIC, \"40d78ae3-24f8-5393-251d-6ac5811c0433\", request)"
   ]
  },
  {
   "cell_type": "markdown",
   "id": "4be12d8b-71c1-47d8-9b6e-8ed3bf7e6265",
   "metadata": {
    "jp-MarkdownHeadingCollapsed": true
   },
   "source": [
    "#### Confirm that the above posted PIB went to Postings DLQ topic i.e. 'vault.core.postings.requests.dlq.v1' "
   ]
  },
  {
   "cell_type": "markdown",
   "id": "7daa5ce2-0641-4c18-873f-d98b97169c44",
   "metadata": {},
   "source": [
    "> Vault would have sent the above Posting to DLQ topic because the client_id was not provided in the request body. A background kafka consumer has consumed all the DLQs and inserted them into a locally running mondoDB instance"
   ]
  },
  {
   "cell_type": "code",
   "execution_count": null,
   "id": "1e955408-71aa-407f-b733-cd38d593bd1c",
   "metadata": {},
   "outputs": [],
   "source": [
    "from pymongo import MongoClient\n",
    "from pprint import pprint\n",
    "\n",
    "# Connect to MongoDB\n",
    "client = MongoClient('mongodb://localhost:27017')\n",
    "db = client['vault_events']\n",
    "collection = db['postings_dlq']\n",
    "\n",
    "# Define the query\n",
    "query = { \"posting_instruction_batch.posting_instructions.client_transaction_id\": \"f9ea38b6-59a8-497d-9a43-dd907adb28d6\" }\n",
    "\n",
    "# Fetch the documents\n",
    "result = collection.find(query)\n",
    "\n",
    "# Iterate over the fetched documents\n",
    "for document in result:\n",
    "    pprint(document)\n",
    "\n",
    "# Close the MongoDB connection\n",
    "client.close()\n"
   ]
  },
  {
   "cell_type": "markdown",
   "id": "89ac815a-5485-4dcb-ae59-0fddb9eb85d7",
   "metadata": {
    "jp-MarkdownHeadingCollapsed": true
   },
   "source": [
    "#### Confirm that the above posted PIB was added to postings requests topic i.e. 'vault.core.postings.requests.v1'"
   ]
  },
  {
   "cell_type": "code",
   "execution_count": null,
   "id": "a10f5b8a-8499-44ce-b6fd-939a3953f39a",
   "metadata": {},
   "outputs": [],
   "source": [
    "from pymongo import MongoClient\n",
    "from pprint import pprint\n",
    "\n",
    "# Connect to MongoDB\n",
    "client = MongoClient('mongodb://localhost:27017')\n",
    "db = client['vault_events']\n",
    "collection = db['postings_requests']\n",
    "\n",
    "# Define the query\n",
    "query = { \"posting_instruction_batch.posting_instructions.client_transaction_id\": \"f9ea38b6-59a8-497d-9a43-dd907adb28d6\" }\n",
    "\n",
    "# Fetch the documents\n",
    "result = collection.find(query)\n",
    "\n",
    "# Iterate over the fetched documents\n",
    "for document in result:\n",
    "    pprint(document)\n",
    "\n",
    "# Close the MongoDB connection\n",
    "client.close()\n"
   ]
  }
 ],
 "metadata": {
  "kernelspec": {
   "display_name": "Python 3 (ipykernel)",
   "language": "python",
   "name": "python3"
  },
  "language_info": {
   "codemirror_mode": {
    "name": "ipython",
    "version": 3
   },
   "file_extension": ".py",
   "mimetype": "text/x-python",
   "name": "python",
   "nbconvert_exporter": "python",
   "pygments_lexer": "ipython3",
   "version": "3.9.13"
  }
 },
 "nbformat": 4,
 "nbformat_minor": 5
}
